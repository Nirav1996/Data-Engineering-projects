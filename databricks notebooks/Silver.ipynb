{
 "cells": [
  {
   "cell_type": "code",
   "execution_count": 0,
   "metadata": {
    "application/vnd.databricks.v1+cell": {
     "cellMetadata": {
      "byteLimit": 2048000,
      "rowLimit": 10000
     },
     "inputWidgets": {},
     "nuid": "33e83c4c-9194-4ffa-8027-379de64b0e94",
     "showTitle": false,
     "tableResultSettingsMap": {},
     "title": ""
    }
   },
   "outputs": [
    {
     "output_type": "stream",
     "name": "stdout",
     "output_type": "stream",
     "text": [
      "Start Date: , Bronze ADLS: \n"
     ]
    }
   ],
   "source": [
    "# Retrieve the task value from the previous task (bronze)\n",
    "a={}\n",
    "bronze_output = dbutils.jobs.taskValues.get(taskKey=\"Bronze\", key=\"bronze_output\",\n",
    "                                            debugValue=a)\n",
    "\n",
    "# Access individual variables\n",
    "start_date = bronze_output.get(\"start_date\", \"\")\n",
    "bronze_adls = bronze_output.get(\"bronze_adls\", \"\")\n",
    "silver_adls = bronze_output.get(\"silver_adls\", \"\")\n",
    "\n",
    "print(f\"Start Date: {start_date}, Bronze ADLS: {bronze_adls}\")"
   ]
  },
  {
   "cell_type": "code",
   "execution_count": 0,
   "metadata": {
    "application/vnd.databricks.v1+cell": {
     "cellMetadata": {
      "byteLimit": 2048000,
      "rowLimit": 10000
     },
     "inputWidgets": {},
     "nuid": "e3f2951a-aa45-44b7-a13e-7cb56e06c997",
     "showTitle": false,
     "tableResultSettingsMap": {},
     "title": ""
    }
   },
   "outputs": [],
   "source": [
    "from pyspark.sql.functions import *\n",
    "from pyspark.sql.types import *\n",
    "from datetime import datetime"
   ]
  },
  {
   "cell_type": "code",
   "execution_count": 0,
   "metadata": {
    "application/vnd.databricks.v1+cell": {
     "cellMetadata": {
      "byteLimit": 2048000,
      "rowLimit": 10000
     },
     "inputWidgets": {},
     "nuid": "8efbfcd3-1432-422a-a71e-bd4b813a31c1",
     "showTitle": false,
     "tableResultSettingsMap": {},
     "title": ""
    }
   },
   "outputs": [
    {
     "output_type": "stream",
     "name": "stdout",
     "output_type": "stream",
     "text": [
      "abfss://bronze@earthquakedatafiles.dfs.core.windows.net/2025-07-19_earthquake_data.json\n"
     ]
    }
   ],
   "source": [
    "\n",
    "#file_path=\"abfss://bronze@earthquakedatafiles.dfs.core.windows.net/2025-07-19_earthquake_data.json\"\n",
    "#print(file_path)\n",
    "# Load the JSON data into a Spark DataFrame\n",
    "df = spark.read.option(\"multiline\", \"true\").json(f\"{bronze_adls}{start_date}_earthquake_data.json\")\n"
   ]
  },
  {
   "cell_type": "code",
   "execution_count": 0,
   "metadata": {
    "application/vnd.databricks.v1+cell": {
     "cellMetadata": {
      "byteLimit": 2048000,
      "rowLimit": 10000
     },
     "inputWidgets": {},
     "nuid": "7cdd4287-ba84-45fe-862e-1a086f2b0f69",
     "showTitle": false,
     "tableResultSettingsMap": {},
     "title": ""
    }
   },
   "outputs": [],
   "source": [
    "###Loading the json data into the pyspark dataframe\n",
    "#df = spark.read.option(\"multiline\", \"true\").json(file_path)"
   ]
  },
  {
   "cell_type": "code",
   "execution_count": 0,
   "metadata": {
    "application/vnd.databricks.v1+cell": {
     "cellMetadata": {
      "byteLimit": 2048000,
      "rowLimit": 10000
     },
     "inputWidgets": {},
     "nuid": "c17f20d5-de4c-4e9b-a0ac-f3139668a74d",
     "showTitle": false,
     "tableResultSettingsMap": {},
     "title": ""
    }
   },
   "outputs": [
    {
     "output_type": "stream",
     "name": "stdout",
     "output_type": "stream",
     "text": [
      "root\n |-- geometry: struct (nullable = true)\n |    |-- coordinates: array (nullable = true)\n |    |    |-- element: double (containsNull = true)\n |    |-- type: string (nullable = true)\n |-- id: string (nullable = true)\n |-- properties: struct (nullable = true)\n |    |-- alert: string (nullable = true)\n |    |-- cdi: double (nullable = true)\n |    |-- code: string (nullable = true)\n |    |-- detail: string (nullable = true)\n |    |-- dmin: double (nullable = true)\n |    |-- felt: long (nullable = true)\n |    |-- gap: double (nullable = true)\n |    |-- ids: string (nullable = true)\n |    |-- mag: double (nullable = true)\n |    |-- magType: string (nullable = true)\n |    |-- mmi: double (nullable = true)\n |    |-- net: string (nullable = true)\n |    |-- nst: long (nullable = true)\n |    |-- place: string (nullable = true)\n |    |-- rms: double (nullable = true)\n |    |-- sig: long (nullable = true)\n |    |-- sources: string (nullable = true)\n |    |-- status: string (nullable = true)\n |    |-- time: long (nullable = true)\n |    |-- title: string (nullable = true)\n |    |-- tsunami: long (nullable = true)\n |    |-- type: string (nullable = true)\n |    |-- types: string (nullable = true)\n |    |-- tz: string (nullable = true)\n |    |-- updated: long (nullable = true)\n |    |-- url: string (nullable = true)\n |-- type: string (nullable = true)\n\n+--------------------+------------+--------------------+-------+\n|            geometry|          id|          properties|   type|\n+--------------------+------------+--------------------+-------+\n|{[-117.8531667, 3...|  ci41026639|{NULL, NULL, 4102...|Feature|\n|{[-153.4387, 59.8...|ak025975facy|{NULL, NULL, 0259...|Feature|\n|{[-102.171, 32.35...|tx2025odcpdo|{NULL, NULL, 2025...|Feature|\n|{[-155.4848327636...|  hv74730067|{NULL, NULL, 7473...|Feature|\n|{[-153.1983, 58.6...|ak025975dbm6|{NULL, NULL, 0259...|Feature|\n|{[-117.2143333, 3...|  ci41026623|{NULL, NULL, 4102...|Feature|\n|{[-152.1653, 61.9...|ak025975bzgh|{NULL, NULL, 0259...|Feature|\n|{[-152.3056, 61.0...|ak0259759m7g|{NULL, NULL, 0259...|Feature|\n|{[-104.589, 31.59...|tx2025odbooa|{NULL, NULL, 2025...|Feature|\n|{[-122.7671661376...|  nc75212237|{NULL, NULL, 7521...|Feature|\n|{[-116.2416667, 3...|  ci41026607|{NULL, NULL, 4102...|Feature|\n|{[-117.8095, 35.3...|  ci41026599|{NULL, NULL, 4102...|Feature|\n|{[-121.9996643066...|  nc75212222|{NULL, NULL, 7521...|Feature|\n|{[-67.27816666666...|  pr71489753|{NULL, NULL, 7148...|Feature|\n|{[-116.427, 34.15...|  ci41026591|{NULL, NULL, 4102...|Feature|\n|{[-121.7685012817...|  uw62146942|{NULL, NULL, 6214...|Feature|\n|{[-142.3008, 60.3...|ak025974pcc4|{NULL, NULL, 0259...|Feature|\n|{[-150.5692, 61.5...|ak025974ow43|{NULL, NULL, 0259...|Feature|\n|{[-116.6868333, 3...|  ci41026583|{NULL, NULL, 4102...|Feature|\n|{[-159.7177, 54.2...|  us7000qdwf|{NULL, NULL, 7000...|Feature|\n+--------------------+------------+--------------------+-------+\nonly showing top 20 rows\n"
     ]
    },
    {
     "output_type": "execute_result",
     "data": {
      "text/plain": [
       "268"
      ]
     },
     "execution_count": 5,
     "metadata": {},
     "output_type": "execute_result"
    }
   ],
   "source": [
    "df.printSchema()\n",
    "df.show()\n",
    "df.count()"
   ]
  },
  {
   "cell_type": "code",
   "execution_count": 0,
   "metadata": {
    "application/vnd.databricks.v1+cell": {
     "cellMetadata": {
      "byteLimit": 2048000,
      "rowLimit": 10000
     },
     "inputWidgets": {},
     "nuid": "8bd04c6b-ee54-419f-b01d-96591fc2eaa9",
     "showTitle": false,
     "tableResultSettingsMap": {},
     "title": ""
    }
   },
   "outputs": [
    {
     "output_type": "execute_result",
     "data": {
      "text/plain": [
       "Row(geometry=Row(coordinates=[-117.8531667, 36.1331667, 6.55], type='Point'), id='ci41026639', properties=Row(alert=None, cdi=None, code='41026639', detail='https://earthquake.usgs.gov/fdsnws/event/1/query?eventid=ci41026639&format=geojson', dmin=0.01561, felt=None, gap=56.0, ids=',ci41026639,', mag=0.91, magType='ml', mmi=None, net='ci', nst=21, place='13 km NE of Coso Junction, CA', rms=0.14, sig=13, sources=',ci,', status='automatic', time=1752969268010, title='M 0.9 - 13 km NE of Coso Junction, CA', tsunami=0, type='earthquake', types=',nearby-cities,origin,phase-data,scitech-link,', tz=None, updated=1752969476770, url='https://earthquake.usgs.gov/earthquakes/eventpage/ci41026639'), type='Feature')"
      ]
     },
     "execution_count": 6,
     "metadata": {},
     "output_type": "execute_result"
    }
   ],
   "source": [
    "df.head()"
   ]
  },
  {
   "cell_type": "markdown",
   "metadata": {
    "application/vnd.databricks.v1+cell": {
     "cellMetadata": {},
     "inputWidgets": {},
     "nuid": "8f0c1e09-7519-470b-bf91-f0d074a5382f",
     "showTitle": false,
     "tableResultSettingsMap": {},
     "title": ""
    }
   },
   "source": [
    "Data Transformation"
   ]
  },
  {
   "cell_type": "code",
   "execution_count": 0,
   "metadata": {
    "application/vnd.databricks.v1+cell": {
     "cellMetadata": {
      "byteLimit": 2048000,
      "rowLimit": 10000
     },
     "inputWidgets": {},
     "nuid": "c9ac874f-6324-4e44-913a-1e20e18cae7e",
     "showTitle": false,
     "tableResultSettingsMap": {},
     "title": ""
    }
   },
   "outputs": [],
   "source": [
    "# Reshaping the dataframe\n",
    "df = (\n",
    "    df\n",
    "    .select(\n",
    "        'id',\n",
    "        col('geometry.coordinates').getItem(0).alias('longitude'),\n",
    "        col('geometry.coordinates').getItem(1).alias('latitude'),\n",
    "        col('geometry.coordinates').getItem(2).alias('elevation'),\n",
    "        col('properties.title').alias('title'),\n",
    "        col('properties.place').alias('place_description'),\n",
    "        col('properties.sig').alias('sig'),\n",
    "        col('properties.mag').alias('mag'),\n",
    "        col('properties.magType').alias('magType'),\n",
    "        col('properties.time').alias('time'),\n",
    "        col('properties.updated').alias('updated')\n",
    "    )\n",
    ")"
   ]
  },
  {
   "cell_type": "code",
   "execution_count": 0,
   "metadata": {
    "application/vnd.databricks.v1+cell": {
     "cellMetadata": {
      "byteLimit": 2048000,
      "rowLimit": 10000
     },
     "inputWidgets": {},
     "nuid": "fe9bca75-f277-42bf-852d-6217a6e5111e",
     "showTitle": false,
     "tableResultSettingsMap": {},
     "title": ""
    }
   },
   "outputs": [
    {
     "output_type": "execute_result",
     "data": {
      "text/plain": [
       "Row(id='ci41026639', longitude=-117.8531667, latitude=36.1331667, elevation=6.55, title='M 0.9 - 13 km NE of Coso Junction, CA', place_description='13 km NE of Coso Junction, CA', sig=13, mag=0.91, magType='ml', time=1752969268010, updated=1752969476770)"
      ]
     },
     "execution_count": 8,
     "metadata": {},
     "output_type": "execute_result"
    }
   ],
   "source": [
    "df.head()"
   ]
  },
  {
   "cell_type": "code",
   "execution_count": 0,
   "metadata": {
    "application/vnd.databricks.v1+cell": {
     "cellMetadata": {
      "byteLimit": 2048000,
      "rowLimit": 10000
     },
     "inputWidgets": {},
     "nuid": "3bdee84f-ba57-4d61-ac00-e9b188e15a64",
     "showTitle": false,
     "tableResultSettingsMap": {},
     "title": ""
    }
   },
   "outputs": [
    {
     "output_type": "stream",
     "name": "stdout",
     "output_type": "stream",
     "text": [
      "+------------+------------+----------+---------+--------------------+--------------------+---+----+-------+-------------+-------------+\n|          id|   longitude|  latitude|elevation|               title|   place_description|sig| mag|magType|         time|      updated|\n+------------+------------+----------+---------+--------------------+--------------------+---+----+-------+-------------+-------------+\n|  ci41026639|-117.8531667|36.1331667|     6.55|M 0.9 - 13 km NE ...|13 km NE of Coso ...| 13|0.91|     ml|1752969268010|1752969476770|\n|ak025975facy|   -153.4387|   59.8083|    121.5|M 1.6 - 37 km E o...|37 km E of Pedro ...| 39| 1.6|     ml|1752968516020|1752968662697|\n|tx2025odcpdo|    -102.171|    32.356|    4.054|M 1.5 - 34 km E o...|34 km E of McKinn...| 35| 1.5|     ml|1752968430560|1752969639272|\n+------------+------------+----------+---------+--------------------+--------------------+---+----+-------+-------------+-------------+\nonly showing top 3 rows\n"
     ]
    }
   ],
   "source": [
    "df.show(3)"
   ]
  },
  {
   "cell_type": "code",
   "execution_count": 0,
   "metadata": {
    "application/vnd.databricks.v1+cell": {
     "cellMetadata": {
      "byteLimit": 2048000,
      "rowLimit": 10000
     },
     "inputWidgets": {},
     "nuid": "aeff4fd9-6640-496b-82b9-b3b090390604",
     "showTitle": false,
     "tableResultSettingsMap": {},
     "title": ""
    }
   },
   "outputs": [],
   "source": [
    "##Handle Missing values\n",
    "df = (\n",
    "    df\n",
    "    .withColumn('longitude', when(isnull(col('longitude')), 0).otherwise(col('longitude')))\n",
    "    .withColumn('latitude', when(isnull(col('latitude')), 0).otherwise(col('latitude')))\n",
    "    .withColumn('time', when(isnull(col('time')), 0).otherwise(col('time')))\n",
    ")"
   ]
  },
  {
   "cell_type": "code",
   "execution_count": 0,
   "metadata": {
    "application/vnd.databricks.v1+cell": {
     "cellMetadata": {
      "byteLimit": 2048000,
      "rowLimit": 10000
     },
     "inputWidgets": {},
     "nuid": "4460215a-b470-4e2b-b2c6-0149137524ac",
     "showTitle": false,
     "tableResultSettingsMap": {},
     "title": ""
    }
   },
   "outputs": [
    {
     "output_type": "stream",
     "name": "stdout",
     "output_type": "stream",
     "text": [
      "+------------+------------+----------+---------+--------------------+--------------------+---+----+-------+--------------------+--------------------+\n|          id|   longitude|  latitude|elevation|               title|   place_description|sig| mag|magType|                time|             updated|\n+------------+------------+----------+---------+--------------------+--------------------+---+----+-------+--------------------+--------------------+\n|  ci41026639|-117.8531667|36.1331667|     6.55|M 0.9 - 13 km NE ...|13 km NE of Coso ...| 13|0.91|     ml|2025-07-19 23:54:...|2025-07-19 23:57:...|\n|ak025975facy|   -153.4387|   59.8083|    121.5|M 1.6 - 37 km E o...|37 km E of Pedro ...| 39| 1.6|     ml|2025-07-19 23:41:...|2025-07-19 23:44:...|\n|tx2025odcpdo|    -102.171|    32.356|    4.054|M 1.5 - 34 km E o...|34 km E of McKinn...| 35| 1.5|     ml|2025-07-19 23:40:...|2025-07-20 00:00:...|\n+------------+------------+----------+---------+--------------------+--------------------+---+----+-------+--------------------+--------------------+\nonly showing top 3 rows\n"
     ]
    }
   ],
   "source": [
    "df.show(3)"
   ]
  },
  {
   "cell_type": "code",
   "execution_count": 0,
   "metadata": {
    "application/vnd.databricks.v1+cell": {
     "cellMetadata": {
      "byteLimit": 2048000,
      "rowLimit": 10000
     },
     "inputWidgets": {},
     "nuid": "c7839b6c-92fd-4895-8df3-7438b71000d1",
     "showTitle": false,
     "tableResultSettingsMap": {},
     "title": ""
    }
   },
   "outputs": [],
   "source": [
    "###Here time column shows the number of seconds passed after 1970 (Unix time).So changing the format to make it more readable.\n",
    "#\n",
    "df = (\n",
    "    df\n",
    "    .withColumn('time', (col('time') / 1000).cast(TimestampType()))\n",
    "    .withColumn('updated', (col('updated') / 1000).cast(TimestampType()))\n",
    ")\n"
   ]
  },
  {
   "cell_type": "code",
   "execution_count": 0,
   "metadata": {
    "application/vnd.databricks.v1+cell": {
     "cellMetadata": {
      "byteLimit": 2048000,
      "rowLimit": 10000
     },
     "inputWidgets": {},
     "nuid": "11f43417-2f49-4823-b651-986cc66d0576",
     "showTitle": false,
     "tableResultSettingsMap": {},
     "title": ""
    }
   },
   "outputs": [
    {
     "output_type": "stream",
     "name": "stdout",
     "output_type": "stream",
     "text": [
      "+------------+------------+----------+---------+--------------------+--------------------+---+----+-------+--------------------+--------------------+\n|          id|   longitude|  latitude|elevation|               title|   place_description|sig| mag|magType|                time|             updated|\n+------------+------------+----------+---------+--------------------+--------------------+---+----+-------+--------------------+--------------------+\n|  ci41026639|-117.8531667|36.1331667|     6.55|M 0.9 - 13 km NE ...|13 km NE of Coso ...| 13|0.91|     ml|2025-07-19 23:54:...|2025-07-19 23:57:...|\n|ak025975facy|   -153.4387|   59.8083|    121.5|M 1.6 - 37 km E o...|37 km E of Pedro ...| 39| 1.6|     ml|2025-07-19 23:41:...|2025-07-19 23:44:...|\n|tx2025odcpdo|    -102.171|    32.356|    4.054|M 1.5 - 34 km E o...|34 km E of McKinn...| 35| 1.5|     ml|2025-07-19 23:40:...|2025-07-20 00:00:...|\n+------------+------------+----------+---------+--------------------+--------------------+---+----+-------+--------------------+--------------------+\nonly showing top 3 rows\n"
     ]
    }
   ],
   "source": [
    "df.show(3)"
   ]
  },
  {
   "cell_type": "code",
   "execution_count": 0,
   "metadata": {
    "application/vnd.databricks.v1+cell": {
     "cellMetadata": {
      "byteLimit": 2048000,
      "rowLimit": 10000
     },
     "inputWidgets": {},
     "nuid": "c5c8653d-7dca-443d-af56-31d0b093f22c",
     "showTitle": false,
     "tableResultSettingsMap": {},
     "title": ""
    }
   },
   "outputs": [
    {
     "output_type": "stream",
     "name": "stdout",
     "output_type": "stream",
     "text": [
      "abfss://silver@earthquakedatafiles.dfs.core.windows.net/earthquake_events_silver/\n"
     ]
    }
   ],
   "source": [
    "# Save the transformed DataFrame to the Silver container\n",
    "#silver_output_path = f\"abfss://silver@earthquakedatafiles.dfs.core.windows.net/earthquake_events_silver/\"\n",
    "#print (silver_output_path)\n",
    "\n",
    "silver_output_path = f\"{silver_adls}earthquake_events_silver/\"\n"
   ]
  },
  {
   "cell_type": "code",
   "execution_count": 0,
   "metadata": {
    "application/vnd.databricks.v1+cell": {
     "cellMetadata": {
      "byteLimit": 2048000,
      "rowLimit": 10000
     },
     "inputWidgets": {},
     "nuid": "a02ee430-00c0-4c7e-96ac-711d6f5995b4",
     "showTitle": false,
     "tableResultSettingsMap": {},
     "title": ""
    }
   },
   "outputs": [],
   "source": [
    "\n",
    "# Append DataFrame to Silver container in Parquet format\n",
    "df.write.mode('append').parquet(silver_output_path)"
   ]
  },
  {
   "cell_type": "code",
   "execution_count": 0,
   "metadata": {
    "application/vnd.databricks.v1+cell": {
     "cellMetadata": {
      "byteLimit": 2048000,
      "rowLimit": 10000
     },
     "inputWidgets": {},
     "nuid": "916b172d-6ce6-4b50-b8db-2ed824b18240",
     "showTitle": false,
     "tableResultSettingsMap": {},
     "title": ""
    }
   },
   "outputs": [],
   "source": [
    "dbutils.jobs.taskValues.set(key = \"silver_output\", value = silver_output_path)"
   ]
  }
 ],
 "metadata": {
  "application/vnd.databricks.v1+notebook": {
   "computePreferences": null,
   "dashboards": [],
   "environmentMetadata": {
    "base_environment": "",
    "environment_version": "2"
   },
   "inputWidgetPreferences": null,
   "language": "python",
   "notebookMetadata": {
    "pythonIndentUnit": 4
   },
   "notebookName": "Silver",
   "widgets": {}
  },
  "language_info": {
   "name": "python"
  }
 },
 "nbformat": 4,
 "nbformat_minor": 0
}