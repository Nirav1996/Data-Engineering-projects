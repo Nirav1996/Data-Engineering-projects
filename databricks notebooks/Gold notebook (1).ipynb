{
 "cells": [
  {
   "cell_type": "code",
   "execution_count": 0,
   "metadata": {
    "application/vnd.databricks.v1+cell": {
     "cellMetadata": {
      "byteLimit": 2048000,
      "rowLimit": 10000
     },
     "inputWidgets": {},
     "nuid": "5020c078-f510-4edb-b2fe-5b280aac1059",
     "showTitle": false,
     "tableResultSettingsMap": {},
     "title": ""
    }
   },
   "outputs": [
    {
     "output_type": "stream",
     "name": "stdout",
     "output_type": "stream",
     "text": [
      "Start Date: , Gold ADLS: \n"
     ]
    }
   ],
   "source": [
    "a={}\n",
    "# Retrieve the task value from the previous task (bronze & silver)\n",
    "bronze_output = dbutils.jobs.taskValues.get(taskKey=\"Bronze\", key=\"bronze_output\",debugValue=a)\n",
    "silver_data = dbutils.jobs.taskValues.get(taskKey=\"Silver\", key=\"silver_output\",debugValue=a)\n",
    "\n",
    "# Access individual variables\n",
    "start_date = bronze_output.get(\"start_date\", \"\")\n",
    "silver_adls = bronze_output.get(\"silver_adls\", \"\")\n",
    "gold_adls = bronze_output.get(\"gold_adls\", \"\")\n",
    "\n",
    "print(f\"Start Date: {start_date}, Gold ADLS: {gold_adls}\")"
   ]
  },
  {
   "cell_type": "code",
   "execution_count": 0,
   "metadata": {
    "application/vnd.databricks.v1+cell": {
     "cellMetadata": {
      "byteLimit": 2048000,
      "rowLimit": 10000
     },
     "inputWidgets": {},
     "nuid": "290315b3-f17e-4b3a-a999-bcd82984afbd",
     "showTitle": false,
     "tableResultSettingsMap": {},
     "title": ""
    }
   },
   "outputs": [],
   "source": [
    "from pyspark.sql.functions import when, col, udf\n",
    "from pyspark.sql.types import StringType\n",
    "# Ensure the below library is installed on your cluster\n",
    "import reverse_geocoder as rg\n",
    "from datetime import date, timedelta"
   ]
  },
  {
   "cell_type": "code",
   "execution_count": 0,
   "metadata": {
    "application/vnd.databricks.v1+cell": {
     "cellMetadata": {
      "byteLimit": 2048000,
      "rowLimit": 10000
     },
     "inputWidgets": {},
     "nuid": "3fc3265a-bda4-4f03-af3f-31c09f97da59",
     "showTitle": false,
     "tableResultSettingsMap": {},
     "title": ""
    }
   },
   "outputs": [],
   "source": [
    "silver_file_path=''"
   ]
  },
  {
   "cell_type": "code",
   "execution_count": 0,
   "metadata": {
    "application/vnd.databricks.v1+cell": {
     "cellMetadata": {
      "byteLimit": 2048000,
      "rowLimit": 10000
     },
     "inputWidgets": {},
     "nuid": "8a040359-8ce5-4008-a1ee-9eb133efb735",
     "showTitle": false,
     "tableResultSettingsMap": {},
     "title": ""
    }
   },
   "outputs": [],
   "source": [
    "#df = spark.read.parquet(silver_output_path).filter(col('time') > start_date)\n",
    "\n",
    "df = spark.read.parquet(silver_data).filter(col('time') > start_date)\n"
   ]
  },
  {
   "cell_type": "code",
   "execution_count": 0,
   "metadata": {
    "application/vnd.databricks.v1+cell": {
     "cellMetadata": {
      "byteLimit": 2048000,
      "rowLimit": 10000
     },
     "inputWidgets": {},
     "nuid": "8a174069-1208-43e1-9075-c65cd6c3fec8",
     "showTitle": false,
     "tableResultSettingsMap": {},
     "title": ""
    }
   },
   "outputs": [],
   "source": [
    "##To speed up processing since our cluster is small\n",
    "df = df.limit(10)"
   ]
  },
  {
   "cell_type": "code",
   "execution_count": 0,
   "metadata": {
    "application/vnd.databricks.v1+cell": {
     "cellMetadata": {
      "byteLimit": 2048000,
      "rowLimit": 10000
     },
     "inputWidgets": {},
     "nuid": "b2b7636a-cfaa-45c0-bf8d-3d32b4c4a157",
     "showTitle": false,
     "tableResultSettingsMap": {},
     "title": ""
    }
   },
   "outputs": [
    {
     "output_type": "execute_result",
     "data": {
      "text/plain": [
       "Row(id='ci41026639', longitude=-117.8531667, latitude=36.1331667, elevation=6.55, title='M 0.9 - 13 km NE of Coso Junction, CA', place_description='13 km NE of Coso Junction, CA', sig=13, mag=0.91, magType='ml', time=datetime.datetime(2025, 7, 19, 23, 54, 28, 10000), updated=datetime.datetime(2025, 7, 19, 23, 57, 56, 770000))"
      ]
     },
     "execution_count": 39,
     "metadata": {},
     "output_type": "execute_result"
    }
   ],
   "source": [
    "df.head()"
   ]
  },
  {
   "cell_type": "code",
   "execution_count": 0,
   "metadata": {
    "application/vnd.databricks.v1+cell": {
     "cellMetadata": {
      "byteLimit": 2048000,
      "rowLimit": 10000
     },
     "inputWidgets": {},
     "nuid": "92162a66-01ab-477a-a8a1-f20e60cc8e46",
     "showTitle": false,
     "tableResultSettingsMap": {},
     "title": ""
    }
   },
   "outputs": [],
   "source": [
    "def get_country_code(lat, lon):\n",
    "    \"\"\"\n",
    "    Retrieve the country code for a given latitude and longitude.\n",
    "\n",
    "    Parameters:\n",
    "    lat (float or str): Latitude of the location.\n",
    "    lon (float or str): Longitude of the location.\n",
    "\n",
    "    Returns:\n",
    "    str: Country code of the location, retrieved using the reverse geocoding API.\n",
    "\n",
    "    Example:\n",
    "    >>> get_country_details(48.8588443, 2.2943506)\n",
    "    'FR'\n",
    "    \"\"\"\n",
    "    try:\n",
    "        coordinates = (float(lat), float(lon))\n",
    "        result = rg.search(coordinates)[0].get('cc')\n",
    "        print(f\"Processed coordinates: {coordinates} -> {result}\")\n",
    "        return result\n",
    "    except Exception as e:\n",
    "        print(f\"Error processing coordinates: {lat}, {lon} -> {str(e)}\")\n",
    "        return None"
   ]
  },
  {
   "cell_type": "code",
   "execution_count": 0,
   "metadata": {
    "application/vnd.databricks.v1+cell": {
     "cellMetadata": {
      "byteLimit": 2048000,
      "rowLimit": 10000
     },
     "inputWidgets": {},
     "nuid": "34777c51-42e6-4cd8-9203-84d62149df82",
     "showTitle": false,
     "tableResultSettingsMap": {},
     "title": ""
    }
   },
   "outputs": [],
   "source": [
    "# registering the udfs so they can be used on spark dataframes\n",
    "get_country_code_udf = udf(get_country_code, StringType())"
   ]
  },
  {
   "cell_type": "code",
   "execution_count": 0,
   "metadata": {
    "application/vnd.databricks.v1+cell": {
     "cellMetadata": {
      "byteLimit": 2048000,
      "rowLimit": 10000
     },
     "inputWidgets": {},
     "nuid": "745e5864-7caf-48f0-9316-0f1bd171f616",
     "showTitle": false,
     "tableResultSettingsMap": {},
     "title": ""
    }
   },
   "outputs": [
    {
     "output_type": "stream",
     "name": "stdout",
     "output_type": "stream",
     "text": [
      "Processed coordinates: (48.8588443, 2.2943506) -> FR\n"
     ]
    },
    {
     "output_type": "execute_result",
     "data": {
      "text/plain": [
       "'FR'"
      ]
     },
     "execution_count": 42,
     "metadata": {},
     "output_type": "execute_result"
    }
   ],
   "source": [
    "##testing the functionality\n",
    "\n",
    "get_country_code(48.8588443, 2.2943506)\n",
    "\n"
   ]
  },
  {
   "cell_type": "code",
   "execution_count": 0,
   "metadata": {
    "application/vnd.databricks.v1+cell": {
     "cellMetadata": {
      "byteLimit": 2048000,
      "rowLimit": 10000
     },
     "inputWidgets": {},
     "nuid": "ae482cfd-ac8c-4a23-8ea2-7b0b11d49554",
     "showTitle": false,
     "tableResultSettingsMap": {},
     "title": ""
    }
   },
   "outputs": [],
   "source": [
    "\n",
    "# adding country_code and city attributes\n",
    "df_with_location = \\\n",
    "                df.\\\n",
    "                    withColumn(\"country_code\", get_country_code_udf(col(\"latitude\"), col(\"longitude\")))"
   ]
  },
  {
   "cell_type": "code",
   "execution_count": 0,
   "metadata": {
    "application/vnd.databricks.v1+cell": {
     "cellMetadata": {
      "byteLimit": 2048000,
      "rowLimit": 10000
     },
     "inputWidgets": {},
     "nuid": "fd7fbb18-f9c6-4496-b837-e92192af1c0f",
     "showTitle": false,
     "tableResultSettingsMap": {},
     "title": ""
    }
   },
   "outputs": [
    {
     "output_type": "execute_result",
     "data": {
      "text/plain": [
       "[Row(id='ci41026639', longitude=-117.8531667, latitude=36.1331667, elevation=6.55, title='M 0.9 - 13 km NE of Coso Junction, CA', place_description='13 km NE of Coso Junction, CA', sig=13, mag=0.91, magType='ml', time=datetime.datetime(2025, 7, 19, 23, 54, 28, 10000), updated=datetime.datetime(2025, 7, 19, 23, 57, 56, 770000), country_code='US'),\n",
       " Row(id='ak025975facy', longitude=-153.4387, latitude=59.8083, elevation=121.5, title='M 1.6 - 37 km E of Pedro Bay, Alaska', place_description='37 km E of Pedro Bay, Alaska', sig=39, mag=1.6, magType='ml', time=datetime.datetime(2025, 7, 19, 23, 41, 56, 20000), updated=datetime.datetime(2025, 7, 19, 23, 44, 22, 697000), country_code='US'),\n",
       " Row(id='tx2025odcpdo', longitude=-102.171, latitude=32.356, elevation=4.054, title='M 1.5 - 34 km E of McKinney Acres, Texas', place_description='34 km E of McKinney Acres, Texas', sig=35, mag=1.5, magType='ml', time=datetime.datetime(2025, 7, 19, 23, 40, 30, 560000), updated=datetime.datetime(2025, 7, 20, 0, 0, 39, 272000), country_code='US'),\n",
       " Row(id='hv74730067', longitude=-155.484832763672, latitude=19.2106666564941, elevation=29.6700000762939, title='M 2.0 - 1 km NW of Pāhala, Hawaii', place_description='1 km NW of Pāhala, Hawaii', sig=61, mag=1.99, magType='ml', time=datetime.datetime(2025, 7, 19, 23, 38, 48, 650000), updated=datetime.datetime(2025, 7, 19, 23, 42, 13, 260000), country_code='US')]"
      ]
     },
     "execution_count": 44,
     "metadata": {},
     "output_type": "execute_result"
    }
   ],
   "source": [
    "df_with_location.head(4)"
   ]
  },
  {
   "cell_type": "code",
   "execution_count": 0,
   "metadata": {
    "application/vnd.databricks.v1+cell": {
     "cellMetadata": {
      "byteLimit": 2048000,
      "rowLimit": 10000
     },
     "inputWidgets": {},
     "nuid": "6b4dd7f7-0ec8-417d-860b-b60e4440c0c7",
     "showTitle": false,
     "tableResultSettingsMap": {},
     "title": ""
    }
   },
   "outputs": [
    {
     "output_type": "display_data",
     "data": {
      "text/html": [
       "<style scoped>\n",
       "  .table-result-container {\n",
       "    max-height: 300px;\n",
       "    overflow: auto;\n",
       "  }\n",
       "  table, th, td {\n",
       "    border: 1px solid black;\n",
       "    border-collapse: collapse;\n",
       "  }\n",
       "  th, td {\n",
       "    padding: 5px;\n",
       "  }\n",
       "  th {\n",
       "    text-align: left;\n",
       "  }\n",
       "</style><div class='table-result-container'><table class='table-result'><thead style='background-color: white'><tr><th>id</th><th>longitude</th><th>latitude</th><th>elevation</th><th>title</th><th>place_description</th><th>sig</th><th>mag</th><th>magType</th><th>time</th><th>updated</th><th>country_code</th></tr></thead><tbody><tr><td>ci41026639</td><td>-117.8531667</td><td>36.1331667</td><td>6.55</td><td>M 0.9 - 13 km NE of Coso Junction, CA</td><td>13 km NE of Coso Junction, CA</td><td>13</td><td>0.91</td><td>ml</td><td>2025-07-19T23:54:28.01Z</td><td>2025-07-19T23:57:56.77Z</td><td>US</td></tr><tr><td>ak025975facy</td><td>-153.4387</td><td>59.8083</td><td>121.5</td><td>M 1.6 - 37 km E of Pedro Bay, Alaska</td><td>37 km E of Pedro Bay, Alaska</td><td>39</td><td>1.6</td><td>ml</td><td>2025-07-19T23:41:56.02Z</td><td>2025-07-19T23:44:22.697Z</td><td>US</td></tr><tr><td>tx2025odcpdo</td><td>-102.171</td><td>32.356</td><td>4.054</td><td>M 1.5 - 34 km E of McKinney Acres, Texas</td><td>34 km E of McKinney Acres, Texas</td><td>35</td><td>1.5</td><td>ml</td><td>2025-07-19T23:40:30.56Z</td><td>2025-07-20T00:00:39.272Z</td><td>US</td></tr><tr><td>hv74730067</td><td>-155.484832763672</td><td>19.2106666564941</td><td>29.6700000762939</td><td>M 2.0 - 1 km NW of Pāhala, Hawaii</td><td>1 km NW of Pāhala, Hawaii</td><td>61</td><td>1.99</td><td>ml</td><td>2025-07-19T23:38:48.65Z</td><td>2025-07-19T23:42:13.26Z</td><td>US</td></tr><tr><td>ak025975dbm6</td><td>-153.1983</td><td>58.6548</td><td>84.7</td><td>M 1.7 - 68 km NNW of Aleneva, Alaska</td><td>68 km NNW of Aleneva, Alaska</td><td>44</td><td>1.7</td><td>ml</td><td>2025-07-19T23:32:39.182Z</td><td>2025-07-19T23:35:04.671Z</td><td>US</td></tr><tr><td>ci41026623</td><td>-117.2143333</td><td>34.011</td><td>3.03</td><td>M 1.4 - 6 km SSW of Redlands, CA</td><td>6 km SSW of Redlands, CA</td><td>31</td><td>1.43</td><td>ml</td><td>2025-07-19T23:27:33.31Z</td><td>2025-07-19T23:31:00.223Z</td><td>US</td></tr><tr><td>ak025975bzgh</td><td>-152.1653</td><td>61.9274</td><td>117.4</td><td>M 1.6 - 40 km W of Skwentna, Alaska</td><td>40 km W of Skwentna, Alaska</td><td>39</td><td>1.6</td><td>ml</td><td>2025-07-19T23:26:15.058Z</td><td>2025-07-19T23:28:27.335Z</td><td>US</td></tr><tr><td>ak0259759m7g</td><td>-152.3056</td><td>61.0712</td><td>114.0</td><td>M 1.4 - 63 km W of Tyonek, Alaska</td><td>63 km W of Tyonek, Alaska</td><td>30</td><td>1.4</td><td>ml</td><td>2025-07-19T23:15:10.201Z</td><td>2025-07-19T23:17:41.962Z</td><td>US</td></tr><tr><td>tx2025odbooa</td><td>-104.589</td><td>31.598</td><td>2.8122</td><td>M 1.9 - 65 km NNE of Van Horn, Texas</td><td>65 km NNE of Van Horn, Texas</td><td>56</td><td>1.9</td><td>mlv</td><td>2025-07-19T23:10:27.226Z</td><td>2025-07-20T05:12:33.425Z</td><td>US</td></tr><tr><td>nc75212237</td><td>-122.767166137695</td><td>38.8269996643066</td><td>2.29999995231628</td><td>M 0.8 - 4 km WNW of Cobb, CA</td><td>4 km WNW of Cobb, CA</td><td>9</td><td>0.76</td><td>md</td><td>2025-07-19T23:09:48.79Z</td><td>2025-07-19T23:11:22.721Z</td><td>US</td></tr></tbody></table></div>"
      ]
     },
     "metadata": {
      "application/vnd.databricks.v1+output": {
       "addedWidgets": {},
       "aggData": [],
       "aggError": "",
       "aggOverflow": false,
       "aggSchema": [],
       "aggSeriesLimitReached": false,
       "aggType": "",
       "arguments": {},
       "columnCustomDisplayInfos": {},
       "data": [
        [
         "ci41026639",
         -117.8531667,
         36.1331667,
         6.55,
         "M 0.9 - 13 km NE of Coso Junction, CA",
         "13 km NE of Coso Junction, CA",
         13,
         0.91,
         "ml",
         "2025-07-19T23:54:28.01Z",
         "2025-07-19T23:57:56.77Z",
         "US"
        ],
        [
         "ak025975facy",
         -153.4387,
         59.8083,
         121.5,
         "M 1.6 - 37 km E of Pedro Bay, Alaska",
         "37 km E of Pedro Bay, Alaska",
         39,
         1.6,
         "ml",
         "2025-07-19T23:41:56.02Z",
         "2025-07-19T23:44:22.697Z",
         "US"
        ],
        [
         "tx2025odcpdo",
         -102.171,
         32.356,
         4.054,
         "M 1.5 - 34 km E of McKinney Acres, Texas",
         "34 km E of McKinney Acres, Texas",
         35,
         1.5,
         "ml",
         "2025-07-19T23:40:30.56Z",
         "2025-07-20T00:00:39.272Z",
         "US"
        ],
        [
         "hv74730067",
         -155.484832763672,
         19.2106666564941,
         29.6700000762939,
         "M 2.0 - 1 km NW of Pāhala, Hawaii",
         "1 km NW of Pāhala, Hawaii",
         61,
         1.99,
         "ml",
         "2025-07-19T23:38:48.65Z",
         "2025-07-19T23:42:13.26Z",
         "US"
        ],
        [
         "ak025975dbm6",
         -153.1983,
         58.6548,
         84.7,
         "M 1.7 - 68 km NNW of Aleneva, Alaska",
         "68 km NNW of Aleneva, Alaska",
         44,
         1.7,
         "ml",
         "2025-07-19T23:32:39.182Z",
         "2025-07-19T23:35:04.671Z",
         "US"
        ],
        [
         "ci41026623",
         -117.2143333,
         34.011,
         3.03,
         "M 1.4 - 6 km SSW of Redlands, CA",
         "6 km SSW of Redlands, CA",
         31,
         1.43,
         "ml",
         "2025-07-19T23:27:33.31Z",
         "2025-07-19T23:31:00.223Z",
         "US"
        ],
        [
         "ak025975bzgh",
         -152.1653,
         61.9274,
         117.4,
         "M 1.6 - 40 km W of Skwentna, Alaska",
         "40 km W of Skwentna, Alaska",
         39,
         1.6,
         "ml",
         "2025-07-19T23:26:15.058Z",
         "2025-07-19T23:28:27.335Z",
         "US"
        ],
        [
         "ak0259759m7g",
         -152.3056,
         61.0712,
         114.0,
         "M 1.4 - 63 km W of Tyonek, Alaska",
         "63 km W of Tyonek, Alaska",
         30,
         1.4,
         "ml",
         "2025-07-19T23:15:10.201Z",
         "2025-07-19T23:17:41.962Z",
         "US"
        ],
        [
         "tx2025odbooa",
         -104.589,
         31.598,
         2.8122,
         "M 1.9 - 65 km NNE of Van Horn, Texas",
         "65 km NNE of Van Horn, Texas",
         56,
         1.9,
         "mlv",
         "2025-07-19T23:10:27.226Z",
         "2025-07-20T05:12:33.425Z",
         "US"
        ],
        [
         "nc75212237",
         -122.767166137695,
         38.8269996643066,
         2.29999995231628,
         "M 0.8 - 4 km WNW of Cobb, CA",
         "4 km WNW of Cobb, CA",
         9,
         0.76,
         "md",
         "2025-07-19T23:09:48.79Z",
         "2025-07-19T23:11:22.721Z",
         "US"
        ]
       ],
       "datasetInfos": [],
       "dbfsResultPath": null,
       "isJsonSchema": true,
       "metadata": {},
       "overflow": false,
       "plotOptions": {
        "customPlotOptions": {},
        "displayType": "table",
        "pivotAggregation": null,
        "pivotColumns": null,
        "xColumns": null,
        "yColumns": null
       },
       "removedWidgets": [],
       "schema": [
        {
         "metadata": "{}",
         "name": "id",
         "type": "\"string\""
        },
        {
         "metadata": "{}",
         "name": "longitude",
         "type": "\"double\""
        },
        {
         "metadata": "{}",
         "name": "latitude",
         "type": "\"double\""
        },
        {
         "metadata": "{}",
         "name": "elevation",
         "type": "\"double\""
        },
        {
         "metadata": "{}",
         "name": "title",
         "type": "\"string\""
        },
        {
         "metadata": "{}",
         "name": "place_description",
         "type": "\"string\""
        },
        {
         "metadata": "{}",
         "name": "sig",
         "type": "\"long\""
        },
        {
         "metadata": "{}",
         "name": "mag",
         "type": "\"double\""
        },
        {
         "metadata": "{}",
         "name": "magType",
         "type": "\"string\""
        },
        {
         "metadata": "{}",
         "name": "time",
         "type": "\"timestamp\""
        },
        {
         "metadata": "{}",
         "name": "updated",
         "type": "\"timestamp\""
        },
        {
         "metadata": "{}",
         "name": "country_code",
         "type": "\"string\""
        }
       ],
       "type": "table"
      }
     },
     "output_type": "display_data"
    }
   ],
   "source": [
    "df_with_location.display()"
   ]
  },
  {
   "cell_type": "code",
   "execution_count": 0,
   "metadata": {
    "application/vnd.databricks.v1+cell": {
     "cellMetadata": {
      "byteLimit": 2048000,
      "rowLimit": 10000
     },
     "inputWidgets": {},
     "nuid": "5195b828-7308-4dbe-ad2f-303209637afa",
     "showTitle": false,
     "tableResultSettingsMap": {},
     "title": ""
    }
   },
   "outputs": [],
   "source": [
    "# adding significance classification field\n",
    "df_with_location_sig_class = \\\n",
    "                            df_with_location.\\\n",
    "                                withColumn('sig_class', \n",
    "                                            when(col(\"sig\") < 100, \"Low\").\\\n",
    "                                            when((col(\"sig\") >= 100) & (col(\"sig\") < 500), \"Moderate\").\\\n",
    "                                            otherwise(\"High\")\n",
    "                                            )"
   ]
  },
  {
   "cell_type": "code",
   "execution_count": 0,
   "metadata": {
    "application/vnd.databricks.v1+cell": {
     "cellMetadata": {
      "byteLimit": 2048000,
      "rowLimit": 10000
     },
     "inputWidgets": {},
     "nuid": "46826bf2-ea4a-4ed4-8080-8c9b03655746",
     "showTitle": false,
     "tableResultSettingsMap": {},
     "title": ""
    }
   },
   "outputs": [
    {
     "output_type": "display_data",
     "data": {
      "text/html": [
       "<style scoped>\n",
       "  .table-result-container {\n",
       "    max-height: 300px;\n",
       "    overflow: auto;\n",
       "  }\n",
       "  table, th, td {\n",
       "    border: 1px solid black;\n",
       "    border-collapse: collapse;\n",
       "  }\n",
       "  th, td {\n",
       "    padding: 5px;\n",
       "  }\n",
       "  th {\n",
       "    text-align: left;\n",
       "  }\n",
       "</style><div class='table-result-container'><table class='table-result'><thead style='background-color: white'><tr><th>id</th><th>longitude</th><th>latitude</th><th>elevation</th><th>title</th><th>place_description</th><th>sig</th><th>mag</th><th>magType</th><th>time</th><th>updated</th><th>country_code</th><th>sig_class</th></tr></thead><tbody><tr><td>ci41026639</td><td>-117.8531667</td><td>36.1331667</td><td>6.55</td><td>M 0.9 - 13 km NE of Coso Junction, CA</td><td>13 km NE of Coso Junction, CA</td><td>13</td><td>0.91</td><td>ml</td><td>2025-07-19T23:54:28.01Z</td><td>2025-07-19T23:57:56.77Z</td><td>US</td><td>Low</td></tr><tr><td>ak025975facy</td><td>-153.4387</td><td>59.8083</td><td>121.5</td><td>M 1.6 - 37 km E of Pedro Bay, Alaska</td><td>37 km E of Pedro Bay, Alaska</td><td>39</td><td>1.6</td><td>ml</td><td>2025-07-19T23:41:56.02Z</td><td>2025-07-19T23:44:22.697Z</td><td>US</td><td>Low</td></tr><tr><td>tx2025odcpdo</td><td>-102.171</td><td>32.356</td><td>4.054</td><td>M 1.5 - 34 km E of McKinney Acres, Texas</td><td>34 km E of McKinney Acres, Texas</td><td>35</td><td>1.5</td><td>ml</td><td>2025-07-19T23:40:30.56Z</td><td>2025-07-20T00:00:39.272Z</td><td>US</td><td>Low</td></tr><tr><td>hv74730067</td><td>-155.484832763672</td><td>19.2106666564941</td><td>29.6700000762939</td><td>M 2.0 - 1 km NW of Pāhala, Hawaii</td><td>1 km NW of Pāhala, Hawaii</td><td>61</td><td>1.99</td><td>ml</td><td>2025-07-19T23:38:48.65Z</td><td>2025-07-19T23:42:13.26Z</td><td>US</td><td>Low</td></tr><tr><td>ak025975dbm6</td><td>-153.1983</td><td>58.6548</td><td>84.7</td><td>M 1.7 - 68 km NNW of Aleneva, Alaska</td><td>68 km NNW of Aleneva, Alaska</td><td>44</td><td>1.7</td><td>ml</td><td>2025-07-19T23:32:39.182Z</td><td>2025-07-19T23:35:04.671Z</td><td>US</td><td>Low</td></tr><tr><td>ci41026623</td><td>-117.2143333</td><td>34.011</td><td>3.03</td><td>M 1.4 - 6 km SSW of Redlands, CA</td><td>6 km SSW of Redlands, CA</td><td>31</td><td>1.43</td><td>ml</td><td>2025-07-19T23:27:33.31Z</td><td>2025-07-19T23:31:00.223Z</td><td>US</td><td>Low</td></tr><tr><td>ak025975bzgh</td><td>-152.1653</td><td>61.9274</td><td>117.4</td><td>M 1.6 - 40 km W of Skwentna, Alaska</td><td>40 km W of Skwentna, Alaska</td><td>39</td><td>1.6</td><td>ml</td><td>2025-07-19T23:26:15.058Z</td><td>2025-07-19T23:28:27.335Z</td><td>US</td><td>Low</td></tr><tr><td>ak0259759m7g</td><td>-152.3056</td><td>61.0712</td><td>114.0</td><td>M 1.4 - 63 km W of Tyonek, Alaska</td><td>63 km W of Tyonek, Alaska</td><td>30</td><td>1.4</td><td>ml</td><td>2025-07-19T23:15:10.201Z</td><td>2025-07-19T23:17:41.962Z</td><td>US</td><td>Low</td></tr><tr><td>tx2025odbooa</td><td>-104.589</td><td>31.598</td><td>2.8122</td><td>M 1.9 - 65 km NNE of Van Horn, Texas</td><td>65 km NNE of Van Horn, Texas</td><td>56</td><td>1.9</td><td>mlv</td><td>2025-07-19T23:10:27.226Z</td><td>2025-07-20T05:12:33.425Z</td><td>US</td><td>Low</td></tr><tr><td>nc75212237</td><td>-122.767166137695</td><td>38.8269996643066</td><td>2.29999995231628</td><td>M 0.8 - 4 km WNW of Cobb, CA</td><td>4 km WNW of Cobb, CA</td><td>9</td><td>0.76</td><td>md</td><td>2025-07-19T23:09:48.79Z</td><td>2025-07-19T23:11:22.721Z</td><td>US</td><td>Low</td></tr></tbody></table></div>"
      ]
     },
     "metadata": {
      "application/vnd.databricks.v1+output": {
       "addedWidgets": {},
       "aggData": [],
       "aggError": "",
       "aggOverflow": false,
       "aggSchema": [],
       "aggSeriesLimitReached": false,
       "aggType": "",
       "arguments": {},
       "columnCustomDisplayInfos": {},
       "data": [
        [
         "ci41026639",
         -117.8531667,
         36.1331667,
         6.55,
         "M 0.9 - 13 km NE of Coso Junction, CA",
         "13 km NE of Coso Junction, CA",
         13,
         0.91,
         "ml",
         "2025-07-19T23:54:28.01Z",
         "2025-07-19T23:57:56.77Z",
         "US",
         "Low"
        ],
        [
         "ak025975facy",
         -153.4387,
         59.8083,
         121.5,
         "M 1.6 - 37 km E of Pedro Bay, Alaska",
         "37 km E of Pedro Bay, Alaska",
         39,
         1.6,
         "ml",
         "2025-07-19T23:41:56.02Z",
         "2025-07-19T23:44:22.697Z",
         "US",
         "Low"
        ],
        [
         "tx2025odcpdo",
         -102.171,
         32.356,
         4.054,
         "M 1.5 - 34 km E of McKinney Acres, Texas",
         "34 km E of McKinney Acres, Texas",
         35,
         1.5,
         "ml",
         "2025-07-19T23:40:30.56Z",
         "2025-07-20T00:00:39.272Z",
         "US",
         "Low"
        ],
        [
         "hv74730067",
         -155.484832763672,
         19.2106666564941,
         29.6700000762939,
         "M 2.0 - 1 km NW of Pāhala, Hawaii",
         "1 km NW of Pāhala, Hawaii",
         61,
         1.99,
         "ml",
         "2025-07-19T23:38:48.65Z",
         "2025-07-19T23:42:13.26Z",
         "US",
         "Low"
        ],
        [
         "ak025975dbm6",
         -153.1983,
         58.6548,
         84.7,
         "M 1.7 - 68 km NNW of Aleneva, Alaska",
         "68 km NNW of Aleneva, Alaska",
         44,
         1.7,
         "ml",
         "2025-07-19T23:32:39.182Z",
         "2025-07-19T23:35:04.671Z",
         "US",
         "Low"
        ],
        [
         "ci41026623",
         -117.2143333,
         34.011,
         3.03,
         "M 1.4 - 6 km SSW of Redlands, CA",
         "6 km SSW of Redlands, CA",
         31,
         1.43,
         "ml",
         "2025-07-19T23:27:33.31Z",
         "2025-07-19T23:31:00.223Z",
         "US",
         "Low"
        ],
        [
         "ak025975bzgh",
         -152.1653,
         61.9274,
         117.4,
         "M 1.6 - 40 km W of Skwentna, Alaska",
         "40 km W of Skwentna, Alaska",
         39,
         1.6,
         "ml",
         "2025-07-19T23:26:15.058Z",
         "2025-07-19T23:28:27.335Z",
         "US",
         "Low"
        ],
        [
         "ak0259759m7g",
         -152.3056,
         61.0712,
         114.0,
         "M 1.4 - 63 km W of Tyonek, Alaska",
         "63 km W of Tyonek, Alaska",
         30,
         1.4,
         "ml",
         "2025-07-19T23:15:10.201Z",
         "2025-07-19T23:17:41.962Z",
         "US",
         "Low"
        ],
        [
         "tx2025odbooa",
         -104.589,
         31.598,
         2.8122,
         "M 1.9 - 65 km NNE of Van Horn, Texas",
         "65 km NNE of Van Horn, Texas",
         56,
         1.9,
         "mlv",
         "2025-07-19T23:10:27.226Z",
         "2025-07-20T05:12:33.425Z",
         "US",
         "Low"
        ],
        [
         "nc75212237",
         -122.767166137695,
         38.8269996643066,
         2.29999995231628,
         "M 0.8 - 4 km WNW of Cobb, CA",
         "4 km WNW of Cobb, CA",
         9,
         0.76,
         "md",
         "2025-07-19T23:09:48.79Z",
         "2025-07-19T23:11:22.721Z",
         "US",
         "Low"
        ]
       ],
       "datasetInfos": [],
       "dbfsResultPath": null,
       "isJsonSchema": true,
       "metadata": {},
       "overflow": false,
       "plotOptions": {
        "customPlotOptions": {},
        "displayType": "table",
        "pivotAggregation": null,
        "pivotColumns": null,
        "xColumns": null,
        "yColumns": null
       },
       "removedWidgets": [],
       "schema": [
        {
         "metadata": "{}",
         "name": "id",
         "type": "\"string\""
        },
        {
         "metadata": "{}",
         "name": "longitude",
         "type": "\"double\""
        },
        {
         "metadata": "{}",
         "name": "latitude",
         "type": "\"double\""
        },
        {
         "metadata": "{}",
         "name": "elevation",
         "type": "\"double\""
        },
        {
         "metadata": "{}",
         "name": "title",
         "type": "\"string\""
        },
        {
         "metadata": "{}",
         "name": "place_description",
         "type": "\"string\""
        },
        {
         "metadata": "{}",
         "name": "sig",
         "type": "\"long\""
        },
        {
         "metadata": "{}",
         "name": "mag",
         "type": "\"double\""
        },
        {
         "metadata": "{}",
         "name": "magType",
         "type": "\"string\""
        },
        {
         "metadata": "{}",
         "name": "time",
         "type": "\"timestamp\""
        },
        {
         "metadata": "{}",
         "name": "updated",
         "type": "\"timestamp\""
        },
        {
         "metadata": "{}",
         "name": "country_code",
         "type": "\"string\""
        },
        {
         "metadata": "{}",
         "name": "sig_class",
         "type": "\"string\""
        }
       ],
       "type": "table"
      }
     },
     "output_type": "display_data"
    }
   ],
   "source": [
    "\n",
    "df_with_location_sig_class.display()"
   ]
  },
  {
   "cell_type": "code",
   "execution_count": 0,
   "metadata": {
    "application/vnd.databricks.v1+cell": {
     "cellMetadata": {
      "byteLimit": 2048000,
      "rowLimit": 10000
     },
     "inputWidgets": {},
     "nuid": "6c7f5afa-3ab0-4e1f-8992-a0a0304dcd7d",
     "showTitle": false,
     "tableResultSettingsMap": {},
     "title": ""
    }
   },
   "outputs": [
    {
     "output_type": "stream",
     "name": "stdout",
     "output_type": "stream",
     "text": [
      "abfss://gold@earthquakedatafiles.dfs.core.windows.net/earthquake_events_gold/\n"
     ]
    }
   ],
   "source": [
    "\n",
    "# Save the transformed DataFrame to the Silver container\n",
    "#gold_output_path = f\"abfss://gold@earthquakedatafiles.dfs.core.windows.net/earthquake_events_gold/\"\n",
    "#print (gold_output_path)\n",
    "\n",
    "# Save the transformed DataFrame to the Silver container\n",
    "gold_output_path = f\"{gold_adls}earthquake_events_gold/\""
   ]
  },
  {
   "cell_type": "code",
   "execution_count": 0,
   "metadata": {
    "application/vnd.databricks.v1+cell": {
     "cellMetadata": {
      "byteLimit": 2048000,
      "rowLimit": 10000
     },
     "inputWidgets": {},
     "nuid": "b789b890-1255-4113-99ee-a0ac1b7df465",
     "showTitle": false,
     "tableResultSettingsMap": {},
     "title": ""
    }
   },
   "outputs": [],
   "source": [
    "# Append DataFrame to gold container in Parquet format\n",
    "df_with_location_sig_class.write.mode('append').parquet(gold_output_path)"
   ]
  }
 ],
 "metadata": {
  "application/vnd.databricks.v1+notebook": {
   "computePreferences": null,
   "dashboards": [],
   "environmentMetadata": {
    "base_environment": "",
    "environment_version": "2"
   },
   "inputWidgetPreferences": null,
   "language": "python",
   "notebookMetadata": {
    "pythonIndentUnit": 4
   },
   "notebookName": "Gold notebook",
   "widgets": {}
  },
  "language_info": {
   "name": "python"
  }
 },
 "nbformat": 4,
 "nbformat_minor": 0
}