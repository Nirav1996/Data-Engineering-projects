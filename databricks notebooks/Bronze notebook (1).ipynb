{
 "cells": [
  {
   "cell_type": "markdown",
   "metadata": {
    "application/vnd.databricks.v1+cell": {
     "cellMetadata": {
      "byteLimit": 2048000,
      "rowLimit": 10000
     },
     "inputWidgets": {},
     "nuid": "688cd10f-457c-4910-8d33-2d752b9c0216",
     "showTitle": false,
     "tableResultSettingsMap": {},
     "title": ""
    }
   },
   "source": [
    "Extracting Data From API into bronze layer"
   ]
  },
  {
   "cell_type": "code",
   "execution_count": 0,
   "metadata": {
    "application/vnd.databricks.v1+cell": {
     "cellMetadata": {
      "byteLimit": 2048000,
      "rowLimit": 10000
     },
     "inputWidgets": {},
     "nuid": "3dbf1f3b-d05b-45e4-9f82-dfa6eefdd753",
     "showTitle": false,
     "tableResultSettingsMap": {},
     "title": ""
    }
   },
   "outputs": [
    {
     "output_type": "execute_result",
     "data": {
      "text/plain": [
       "[]"
      ]
     },
     "execution_count": 14,
     "metadata": {},
     "output_type": "execute_result"
    }
   ],
   "source": [
    "tiers=['bronze','silver','gold']\n",
    "adls_paths = {tier: f\"abfss://{tier}@earthquakedatafiles.dfs.core.windows.net/\" for tier in tiers}\n",
    "\n",
    "# Accessing paths\n",
    "bronze_adls = adls_paths[\"bronze\"]\n",
    "silver_adls = adls_paths[\"silver\"]\n",
    "gold_adls = adls_paths[\"gold\"] \n",
    "\n",
    "dbutils.fs.ls(bronze_adls)\n",
    "dbutils.fs.ls(silver_adls)\n",
    "dbutils.fs.ls(gold_adls)"
   ]
  },
  {
   "cell_type": "code",
   "execution_count": 0,
   "metadata": {
    "application/vnd.databricks.v1+cell": {
     "cellMetadata": {
      "byteLimit": 2048000,
      "rowLimit": 10000
     },
     "inputWidgets": {},
     "nuid": "48b91dca-bbaf-411d-82ea-fe9c8d215748",
     "showTitle": false,
     "tableResultSettingsMap": {},
     "title": ""
    }
   },
   "outputs": [],
   "source": [
    "import requests\n",
    "import json\n",
    "from datetime import date,timedelta"
   ]
  },
  {
   "cell_type": "code",
   "execution_count": 0,
   "metadata": {
    "application/vnd.databricks.v1+cell": {
     "cellMetadata": {
      "byteLimit": 2048000,
      "rowLimit": 10000
     },
     "inputWidgets": {},
     "nuid": "8ff0f234-e79f-4fb1-bb7e-9d11fc9744b3",
     "showTitle": false,
     "tableResultSettingsMap": {},
     "title": ""
    }
   },
   "outputs": [
    {
     "output_type": "stream",
     "name": "stdout",
     "output_type": "stream",
     "text": [
      "Wrote 333832 bytes.\nData successfully saved to abfss://bronze@earthquakedatafiles.dfs.core.windows.net//2025-07-19_earthquake_data.json\n"
     ]
    }
   ],
   "source": [
    "start_date=date.today() - timedelta(1)\n",
    "end_date=date.today()\n",
    "\n",
    "###Fetching data from api\n",
    "\n",
    "url = f\"https://earthquake.usgs.gov/fdsnws/event/1/query?format=geojson&starttime={start_date}&endtime={end_date}\"\n",
    "\n",
    "try:\n",
    "    # Make the GET request to fetch data\n",
    "    response = requests.get(url)\n",
    "\n",
    "    # Check if the request was successful\n",
    "    response.raise_for_status()  # Raise HTTPError for bad responses (4xx or 5xx)\n",
    "    data = response.json().get('features', [])\n",
    "\n",
    "    if not data:\n",
    "        print(\"No data returned for the specified date range.\")\n",
    "    else:\n",
    "        # Specify the ADLS path\n",
    "        file_path = f\"{bronze_adls}/{start_date}_earthquake_data.json\"\n",
    "\n",
    "        # Save the JSON data\n",
    "        json_data = json.dumps(data, indent=4)\n",
    "        dbutils.fs.put(file_path, json_data, overwrite=True)\n",
    "        print(f\"Data successfully saved to {file_path}\")\n",
    "except requests.exceptions.RequestException as e:\n",
    "    print(f\"Error fetching data from API: {e}\")\n",
    "\n"
   ]
  },
  {
   "cell_type": "code",
   "execution_count": 0,
   "metadata": {
    "application/vnd.databricks.v1+cell": {
     "cellMetadata": {
      "byteLimit": 2048000,
      "rowLimit": 10000
     },
     "inputWidgets": {},
     "nuid": "66a899b6-5027-4ff7-980e-a7af1c1331ff",
     "showTitle": false,
     "tableResultSettingsMap": {},
     "title": ""
    }
   },
   "outputs": [
    {
     "output_type": "execute_result",
     "data": {
      "text/plain": [
       "[{'type': 'Feature',\n",
       "  'properties': {'mag': 0.91,\n",
       "   'place': '13 km NE of Coso Junction, CA',\n",
       "   'time': 1752969268010,\n",
       "   'updated': 1752969476770,\n",
       "   'tz': None,\n",
       "   'url': 'https://earthquake.usgs.gov/earthquakes/eventpage/ci41026639',\n",
       "   'detail': 'https://earthquake.usgs.gov/fdsnws/event/1/query?eventid=ci41026639&format=geojson',\n",
       "   'felt': None,\n",
       "   'cdi': None,\n",
       "   'mmi': None,\n",
       "   'alert': None,\n",
       "   'status': 'automatic',\n",
       "   'tsunami': 0,\n",
       "   'sig': 13,\n",
       "   'net': 'ci',\n",
       "   'code': '41026639',\n",
       "   'ids': ',ci41026639,',\n",
       "   'sources': ',ci,',\n",
       "   'types': ',nearby-cities,origin,phase-data,scitech-link,',\n",
       "   'nst': 21,\n",
       "   'dmin': 0.01561,\n",
       "   'rms': 0.14,\n",
       "   'gap': 56,\n",
       "   'magType': 'ml',\n",
       "   'type': 'earthquake',\n",
       "   'title': 'M 0.9 - 13 km NE of Coso Junction, CA'},\n",
       "  'geometry': {'type': 'Point',\n",
       "   'coordinates': [-117.8531667, 36.1331667, 6.55]},\n",
       "  'id': 'ci41026639'},\n",
       " {'type': 'Feature',\n",
       "  'properties': {'mag': 1.6,\n",
       "   'place': '37 km E of Pedro Bay, Alaska',\n",
       "   'time': 1752968516020,\n",
       "   'updated': 1752968662697,\n",
       "   'tz': None,\n",
       "   'url': 'https://earthquake.usgs.gov/earthquakes/eventpage/ak025975facy',\n",
       "   'detail': 'https://earthquake.usgs.gov/fdsnws/event/1/query?eventid=ak025975facy&format=geojson',\n",
       "   'felt': None,\n",
       "   'cdi': None,\n",
       "   'mmi': None,\n",
       "   'alert': None,\n",
       "   'status': 'automatic',\n",
       "   'tsunami': 0,\n",
       "   'sig': 39,\n",
       "   'net': 'ak',\n",
       "   'code': '025975facy',\n",
       "   'ids': ',ak025975facy,',\n",
       "   'sources': ',ak,',\n",
       "   'types': ',origin,phase-data,',\n",
       "   'nst': None,\n",
       "   'dmin': None,\n",
       "   'rms': 0.54,\n",
       "   'gap': None,\n",
       "   'magType': 'ml',\n",
       "   'type': 'earthquake',\n",
       "   'title': 'M 1.6 - 37 km E of Pedro Bay, Alaska'},\n",
       "  'geometry': {'type': 'Point', 'coordinates': [-153.4387, 59.8083, 121.5]},\n",
       "  'id': 'ak025975facy'},\n",
       " {'type': 'Feature',\n",
       "  'properties': {'mag': 1.5,\n",
       "   'place': '34 km E of McKinney Acres, Texas',\n",
       "   'time': 1752968430560,\n",
       "   'updated': 1752969639272,\n",
       "   'tz': None,\n",
       "   'url': 'https://earthquake.usgs.gov/earthquakes/eventpage/tx2025odcpdo',\n",
       "   'detail': 'https://earthquake.usgs.gov/fdsnws/event/1/query?eventid=tx2025odcpdo&format=geojson',\n",
       "   'felt': None,\n",
       "   'cdi': None,\n",
       "   'mmi': None,\n",
       "   'alert': None,\n",
       "   'status': 'automatic',\n",
       "   'tsunami': 0,\n",
       "   'sig': 35,\n",
       "   'net': 'tx',\n",
       "   'code': '2025odcpdo',\n",
       "   'ids': ',tx2025odcpdo,',\n",
       "   'sources': ',tx,',\n",
       "   'types': ',origin,phase-data,',\n",
       "   'nst': 35,\n",
       "   'dmin': 0,\n",
       "   'rms': 0.5,\n",
       "   'gap': 57,\n",
       "   'magType': 'ml',\n",
       "   'type': 'earthquake',\n",
       "   'title': 'M 1.5 - 34 km E of McKinney Acres, Texas'},\n",
       "  'geometry': {'type': 'Point', 'coordinates': [-102.171, 32.356, 4.054]},\n",
       "  'id': 'tx2025odcpdo'},\n",
       " {'type': 'Feature',\n",
       "  'properties': {'mag': 1.99,\n",
       "   'place': '1 km NW of Pāhala, Hawaii',\n",
       "   'time': 1752968328650,\n",
       "   'updated': 1752968533260,\n",
       "   'tz': None,\n",
       "   'url': 'https://earthquake.usgs.gov/earthquakes/eventpage/hv74730067',\n",
       "   'detail': 'https://earthquake.usgs.gov/fdsnws/event/1/query?eventid=hv74730067&format=geojson',\n",
       "   'felt': None,\n",
       "   'cdi': None,\n",
       "   'mmi': None,\n",
       "   'alert': None,\n",
       "   'status': 'automatic',\n",
       "   'tsunami': 0,\n",
       "   'sig': 61,\n",
       "   'net': 'hv',\n",
       "   'code': '74730067',\n",
       "   'ids': ',hv74730067,',\n",
       "   'sources': ',hv,',\n",
       "   'types': ',origin,phase-data,',\n",
       "   'nst': 53,\n",
       "   'dmin': 0.03982,\n",
       "   'rms': 0.159999996,\n",
       "   'gap': 102,\n",
       "   'magType': 'ml',\n",
       "   'type': 'earthquake',\n",
       "   'title': 'M 2.0 - 1 km NW of Pāhala, Hawaii'},\n",
       "  'geometry': {'type': 'Point',\n",
       "   'coordinates': [-155.484832763672, 19.2106666564941, 29.6700000762939]},\n",
       "  'id': 'hv74730067'},\n",
       " {'type': 'Feature',\n",
       "  'properties': {'mag': 1.7,\n",
       "   'place': '68 km NNW of Aleneva, Alaska',\n",
       "   'time': 1752967959182,\n",
       "   'updated': 1752968104671,\n",
       "   'tz': None,\n",
       "   'url': 'https://earthquake.usgs.gov/earthquakes/eventpage/ak025975dbm6',\n",
       "   'detail': 'https://earthquake.usgs.gov/fdsnws/event/1/query?eventid=ak025975dbm6&format=geojson',\n",
       "   'felt': None,\n",
       "   'cdi': None,\n",
       "   'mmi': None,\n",
       "   'alert': None,\n",
       "   'status': 'automatic',\n",
       "   'tsunami': 0,\n",
       "   'sig': 44,\n",
       "   'net': 'ak',\n",
       "   'code': '025975dbm6',\n",
       "   'ids': ',ak025975dbm6,',\n",
       "   'sources': ',ak,',\n",
       "   'types': ',origin,phase-data,',\n",
       "   'nst': None,\n",
       "   'dmin': None,\n",
       "   'rms': 0.4,\n",
       "   'gap': None,\n",
       "   'magType': 'ml',\n",
       "   'type': 'earthquake',\n",
       "   'title': 'M 1.7 - 68 km NNW of Aleneva, Alaska'},\n",
       "  'geometry': {'type': 'Point', 'coordinates': [-153.1983, 58.6548, 84.7]},\n",
       "  'id': 'ak025975dbm6'}]"
      ]
     },
     "execution_count": 17,
     "metadata": {},
     "output_type": "execute_result"
    }
   ],
   "source": [
    "##having a quick glimpse of the data\n",
    "data[0:5]"
   ]
  },
  {
   "cell_type": "code",
   "execution_count": 0,
   "metadata": {
    "application/vnd.databricks.v1+cell": {
     "cellMetadata": {
      "byteLimit": 2048000,
      "rowLimit": 10000
     },
     "inputWidgets": {},
     "nuid": "59cb41c8-0258-4931-bc9b-9a799837fe84",
     "showTitle": false,
     "tableResultSettingsMap": {},
     "title": ""
    }
   },
   "outputs": [
    {
     "output_type": "stream",
     "name": "stdout",
     "output_type": "stream",
     "text": [
      "{'start_date': '2025-07-19', 'end_date': '2025-07-20', 'bronze_adls': 'abfss://bronze@earthquakedatafiles.dfs.core.windows.net/', 'silver_adls': 'abfss://silver@earthquakedatafiles.dfs.core.windows.net/', 'gold_adls': 'abfss://gold@earthquakedatafiles.dfs.core.windows.net/'}\n"
     ]
    }
   ],
   "source": [
    "output_data={\n",
    "    \"start_date\":start_date.isoformat(),\n",
    "    \"end_date\":end_date.isoformat(),\n",
    "    \"bronze_adls\":bronze_adls,\n",
    "    \"silver_adls\":silver_adls,\n",
    "    \"gold_adls\":gold_adls\n",
    "}\n",
    "dbutils.jobs.taskValues.set(key=\"bronze_output\",value=output_data)\n",
    "print (output_data)"
   ]
  }
 ],
 "metadata": {
  "application/vnd.databricks.v1+notebook": {
   "computePreferences": null,
   "dashboards": [],
   "environmentMetadata": {
    "base_environment": "",
    "environment_version": "2"
   },
   "inputWidgetPreferences": null,
   "language": "python",
   "notebookMetadata": {
    "pythonIndentUnit": 4
   },
   "notebookName": "Bronze notebook",
   "widgets": {}
  },
  "language_info": {
   "name": "python"
  }
 },
 "nbformat": 4,
 "nbformat_minor": 0
}